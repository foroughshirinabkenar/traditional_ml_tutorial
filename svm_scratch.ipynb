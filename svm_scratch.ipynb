{
 "cells": [
  {
   "cell_type": "markdown",
   "id": "13ebf7b4",
   "metadata": {},
   "source": [
    "# Support Vector Machine (SVM)\n",
    "SVM is a linear-based model that follows the linear equation in (1) to predict values:\n",
    "\n",
    "$\\begin{equation}\n",
    "    y_{i}(\\omega x_{i} - b)\\geq 1,~y_{i}\\in\\{-1, 1\\}\n",
    "\\end{equation}$\n",
    "\n",
    "where $\\omega$ is the weight of the model, $x$ represents the independent data, and $b$ shows the bias. The Hinge Loss is used to evaluate the predictions. For example, relying on MSE, we have\n",
    "\n",
    "$\\begin{equation}\n",
    "    \\mathcal{L} = \\max(0, 1 - y_{i}(\\omega x_{i} - b))\n",
    "\\end{equation}$\n",
    "\n",
    "A regularization term (L2-norm penalty), i.e., $\\lambda\\|\\omega\\|^{2}$ is added to the objective function to make a tradeoff between minimizing the Hinge Loss and maximizing the distance between the hyperplane and the support vectors, i.e., $\\frac{2}{\\|\\omega\\|}$. To maximize $\\frac{2}{\\|\\omega\\|}$, $\\|\\omega\\|$ must be minimized. This implies that $\\lambda\\|\\omega\\|^{2}$ must be minimized.\n",
    "\n",
    "$\\begin{equation}\n",
    "    \\mathcal{J} = \\lambda\\|\\omega\\|^{2} + \\frac{1}{n}\\sum_{i=1}^{n}\\max(0, 1 - y_{i}(\\omega x_{i} - b))\n",
    "\\end{equation}$\n",
    "\n",
    "## How to Implement LogisticRegression for Binary Classification\n",
    "We use stochastic gradient descent (SGD) to train the model. Hence, assuming a learning rate of $\\alpha$ and the maximum number of iterations $n\\_iters$, we\n",
    "\n",
    "1. initialize the weigths as zero\n",
    "2. initialize the bias as zero\n",
    "3. Make sure that $y\\in]{-1, 1\\}$\n",
    "4. calculate $\\frac{\\partial \\mathcal{J}}{\\partial\\omega}$:\n",
    "\n",
    "$\\begin{equation}\n",
    "    \\frac{\\partial \\mathcal{J}}{\\partial\\omega} = \n",
    "    \\begin{cases}\n",
    "        2\\lambda\\omega & \\text{if~} y_{i}(\\omega x_{i} - b) >= 1\\\\\n",
    "        2\\lambda\\omega - y_{i}x_{i} & otherwise\n",
    "    \\end{cases}\n",
    "\\end{equation}$\n",
    "\n",
    "5. calculate $\\frac{\\partial \\mathcal{J}}{\\partial b}$\n",
    "\n",
    "$\\begin{equation}\n",
    "    \\frac{\\partial \\mathcal{J}}{\\partial b} = \n",
    "    \\begin{cases}\n",
    "        0 & \\text{if~} y_{i}(\\omega x_{i} - b) >= 1\\\\\n",
    "        y_{i} & otherwise\n",
    "    \\end{cases}\n",
    "\\end{equation}$\n",
    "\n",
    "6. update weights as $\\omega = \\omega - \\alpha.\\frac{\\partial \\mathcal{J}}{\\partial\\omega}$\n",
    "7. update bias as $b = b - \\alpha.\\frac{\\partial \\mathcal{J}}{\\partial b}$\n",
    "8. repeat steps 3 - 6 for $n\\_iters$ times\n",
    "\n",
    "For the inference part, we use the updated weights and bias in Eq. (1) and calculate the objective function using Eq. (3).\n",
    "\n",
    "It is worth noting that the current document is based on the guidelines provided in https://www.youtube.com/watch?v=T9UcK-TxQGw."
   ]
  },
  {
   "cell_type": "markdown",
   "id": "90050071",
   "metadata": {},
   "source": [
    "## Define the Manual Model"
   ]
  },
  {
   "cell_type": "markdown",
   "id": "f4b5c080",
   "metadata": {},
   "source": [
    "### Import Required Libraries"
   ]
  },
  {
   "cell_type": "code",
   "execution_count": 1,
   "id": "dfde991a",
   "metadata": {},
   "outputs": [],
   "source": [
    "import numpy as np\n",
    "import warnings\n",
    "\n",
    "# suppress warnings\n",
    "warnings.filterwarnings('ignore')"
   ]
  },
  {
   "cell_type": "markdown",
   "id": "f010881e",
   "metadata": {},
   "source": [
    "### SVM Class"
   ]
  },
  {
   "cell_type": "code",
   "execution_count": 2,
   "id": "d8ad6e4b",
   "metadata": {},
   "outputs": [],
   "source": [
    "class SVM:\n",
    "    def __init__(self, lr=0.001, lambda_param=0.01, n_iters=1000):\n",
    "        self.lr           = lr\n",
    "        self.lambda_param = lambda_param\n",
    "        self.n_iters      = n_iters\n",
    "        self.weights      = None\n",
    "        self.bias         = None\n",
    "\n",
    "    def fit(self, X, y):\n",
    "        n_samples, n_features = X.shape\n",
    "        self.weights = np.zeros(n_features)\n",
    "        self.bias = 0\n",
    "\n",
    "        label = np.where(y <= 0, -1, 1)\n",
    "\n",
    "        for _ in range(self.n_iters):\n",
    "            for ind, x in enumerate(X):\n",
    "                condition = label[ind] * (np.dot(x, self.weights) - self.bias) >= 1\n",
    "                l_norm = 2 * self.lambda_param * self.weights\n",
    "                dw = l_norm if condition else l_norm - np.dot(x, label[ind])\n",
    "                db = 0 if condition else label[ind]\n",
    "\n",
    "                self.weights -= self.lr * dw\n",
    "                self.bias    -= self.lr * db\n",
    "\n",
    "    def predict(self, X):\n",
    "        y_pred = np.dot(X, self.weights) - self.bias\n",
    "\n",
    "        return np.sign(y_pred)"
   ]
  },
  {
   "cell_type": "markdown",
   "id": "096698e7",
   "metadata": {},
   "source": [
    "## Fit and Evaluate Model"
   ]
  },
  {
   "cell_type": "code",
   "execution_count": 3,
   "id": "c9c7f8c6",
   "metadata": {},
   "outputs": [],
   "source": [
    "from sklearn import datasets\n",
    "import matplotlib.pyplot as plt\n",
    "from sklearn.model_selection import train_test_split"
   ]
  },
  {
   "cell_type": "code",
   "execution_count": 4,
   "id": "deea8f53-794f-4fe9-9f20-7e77f1377729",
   "metadata": {},
   "outputs": [],
   "source": [
    "def plot(clf):\n",
    "    def get_hyperplane_value(x, w, b, offset):\n",
    "        return (-w[0] * x + b + offset) / w[1]\n",
    "\n",
    "    fig = plt.figure()\n",
    "    ax = fig.add_subplot(1, 1, 1)\n",
    "    plt.scatter(X[:, 0], X[:, 1], marker=\"o\", c=y)\n",
    "\n",
    "    x0_1 = np.amin(X[:, 0])\n",
    "    x0_2 = np.amax(X[:, 0])\n",
    "\n",
    "    x1_1 = get_hyperplane_value(x0_1, clf.weights, clf.bias, 0)\n",
    "    x1_2 = get_hyperplane_value(x0_2, clf.weights, clf.bias, 0)\n",
    "\n",
    "    x1_1_m = get_hyperplane_value(x0_1, clf.weights, clf.bias, -1)\n",
    "    x1_2_m = get_hyperplane_value(x0_2, clf.weights, clf.bias, -1)\n",
    "\n",
    "    x1_1_p = get_hyperplane_value(x0_1, clf.weights, clf.bias, 1)\n",
    "    x1_2_p = get_hyperplane_value(x0_2, clf.weights, clf.bias, 1)\n",
    "\n",
    "    ax.plot([x0_1, x0_2], [x1_1, x1_2], \"r\")\n",
    "    ax.plot([x0_1, x0_2], [x1_1_m, x1_2_m], \"k--\")\n",
    "    ax.plot([x0_1, x0_2], [x1_1_p, x1_2_p], \"k--\")\n",
    "\n",
    "    x1_min = np.amin(X[:, 1])\n",
    "    x1_max = np.amax(X[:, 1])\n",
    "    ax.set_ylim([x1_min - 3, x1_max + 3])\n",
    "\n",
    "    plt.show()"
   ]
  },
  {
   "cell_type": "code",
   "execution_count": 5,
   "id": "b842f7b6",
   "metadata": {},
   "outputs": [
    {
     "name": "stdout",
     "output_type": "stream",
     "text": [
      "Accuracy:  100.00\n"
     ]
    },
    {
     "data": {
      "image/png": "[encoded data removed]",
      "text/plain": [
       "<Figure size 640x480 with 1 Axes>"
      ]
     },
     "metadata": {},
     "output_type": "display_data"
    }
   ],
   "source": [
    "if __name__ == \"__main__\":\n",
    "    X, y = datasets.make_blobs(n_samples=50, n_features=2, centers=2, cluster_std=1.05, random_state=42)\n",
    "    y = np.where(y == 0, -1, 1)\n",
    "    \n",
    "    X_train, X_test, y_train, y_test = train_test_split(X, y, test_size=0.2, random_state=42)\n",
    "    \n",
    "    # train\n",
    "    clf = SVM()\n",
    "    clf.fit(X_train, y_train)\n",
    "    \n",
    "    # inference\n",
    "    y_pred = clf.predict(X_test)\n",
    "    accuracy = np.sum(y_pred == y_test) / len(y_test)\n",
    "    print(f\"Accuracy: {accuracy*100: .2f}\")\n",
    "\n",
    "    plot(clf)"
   ]
  }
 ],
 "metadata": {
  "kernelspec": {
   "display_name": "Python 3 (ipykernel)",
   "language": "python",
   "name": "python3"
  },
  "language_info": {
   "codemirror_mode": {
    "name": "ipython",
    "version": 3
   },
   "file_extension": ".py",
   "mimetype": "text/x-python",
   "name": "python",
   "nbconvert_exporter": "python",
   "pygments_lexer": "ipython3",
   "version": "3.12.2"
  }
 },
 "nbformat": 4,
 "nbformat_minor": 5
}
