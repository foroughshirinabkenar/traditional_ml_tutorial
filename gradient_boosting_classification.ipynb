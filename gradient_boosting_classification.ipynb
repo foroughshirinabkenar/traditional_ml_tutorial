{
 "cells": [
  {
   "cell_type": "markdown",
   "id": "257a860f-3d0f-4462-aaf0-0d3e264d9495",
   "metadata": {},
   "source": [
    "# Gradient Boosting for Classification\n",
    "In this document, we develop a gradient boosting classifier using scikit-sklearn to classify data for breast cancer dataset."
   ]
  },
  {
   "cell_type": "markdown",
   "id": "21aa4a43-9a3d-48c8-aedf-0bdb72a3d1aa",
   "metadata": {},
   "source": [
    "## Import Libraries"
   ]
  },
  {
   "cell_type": "code",
   "execution_count": 1,
   "id": "93770197-46ed-41d5-b484-5ea6f15b6e5d",
   "metadata": {},
   "outputs": [],
   "source": [
    "import numpy as np\n",
    "from sklearn import datasets\n",
    "from sklearn.ensemble import GradientBoostingClassifier\n",
    "from sklearn.model_selection import train_test_split\n",
    "from sklearn.model_selection import GridSearchCV       # for hyper-parameter tuning\n",
    "\n",
    "import warnings\n",
    "warnings.filterwarnings('ignore')"
   ]
  },
  {
   "cell_type": "markdown",
   "id": "2afb73ab-5eee-41ab-9e9d-ae9e8a08a588",
   "metadata": {},
   "source": [
    "## Load Dataset"
   ]
  },
  {
   "cell_type": "code",
   "execution_count": 2,
   "id": "036bacca-8891-4c7b-a0b9-ca5d454e1228",
   "metadata": {},
   "outputs": [],
   "source": [
    "dataset = datasets.load_breast_cancer()\n",
    "X, y = dataset.data, dataset.target"
   ]
  },
  {
   "cell_type": "code",
   "execution_count": 3,
   "id": "b1886684-7a8f-4c2c-8e76-ff98cbd66689",
   "metadata": {},
   "outputs": [],
   "source": [
    "X_train, X_test, y_train, y_test = train_test_split(\n",
    "    X, y, test_size=0.2, random_state=42\n",
    ")"
   ]
  },
  {
   "cell_type": "markdown",
   "id": "177abba6-99c3-4aeb-a77a-77874fd250a4",
   "metadata": {},
   "source": [
    "## Fit Model"
   ]
  },
  {
   "cell_type": "code",
   "execution_count": 4,
   "id": "65a3460e-096a-4c6c-9820-8e7dc5a33add",
   "metadata": {},
   "outputs": [
    {
     "name": "stdout",
     "output_type": "stream",
     "text": [
      "Best Parameters:\n",
      "learning_rate: 0.01\n",
      "max_depth: 10\n",
      "min_samples_split: 10\n",
      "n_estimators: 100\n",
      "Training Accuracy: 94.95\n"
     ]
    }
   ],
   "source": [
    "param_grid = {\n",
    "    'n_estimators'      : [50, 100, 200],           # number of trees for the forest\n",
    "    'max_depth'         : ['None', 10, 50, 100],    # maximum depth of tree for convergence\n",
    "    'min_samples_split' : [2, 5, 10],               # minumum number of samples required to split an internal node (convergence)\n",
    "    'learning_rate'     : [0.001, 0.01, 0.1],       # learning rate\n",
    "}\n",
    "\n",
    "clf = GradientBoostingClassifier(random_state=42)\n",
    "\n",
    "grid_search = GridSearchCV(\n",
    "    estimator  = clf,\n",
    "    param_grid = param_grid,\n",
    "    cv         = 5,                                 # number of folds for cross-validation\n",
    "    scoring    = 'accuracy',\n",
    "    n_jobs     = -1                                 # number of CPU cores to use (-1 means all cores)\n",
    ")\n",
    "\n",
    "grid_search.fit(X_train, y_train)\n",
    "best_parameters = grid_search.best_params_\n",
    "best_score      = grid_search.best_score_\n",
    "best_clf        = grid_search.best_estimator_\n",
    "\n",
    "print(\"Best Parameters:\")\n",
    "for k, v in best_parameters.items():\n",
    "    print(f\"{k}: {v}\")\n",
    "\n",
    "print(f\"Training Accuracy: {best_score*100:.2f}\")"
   ]
  },
  {
   "cell_type": "markdown",
   "id": "44e8dc0d-c0b1-4abf-a0cf-55f1d6f805af",
   "metadata": {},
   "source": [
    "## Testing"
   ]
  },
  {
   "cell_type": "code",
   "execution_count": 5,
   "id": "5e9c3d1e-6a81-4b51-a452-5497fe22c9d8",
   "metadata": {},
   "outputs": [
    {
     "name": "stdout",
     "output_type": "stream",
     "text": [
      "Accuracy: 93.86\n"
     ]
    }
   ],
   "source": [
    "y_pred = best_clf.predict(X_test)\n",
    "accuracy = np.sum(y_pred == y_test) / len(y_test)\n",
    "print(f\"Accuracy: {accuracy*100:.2f}\")"
   ]
  }
 ],
 "metadata": {
  "kernelspec": {
   "display_name": "Python 3 (ipykernel)",
   "language": "python",
   "name": "python3"
  },
  "language_info": {
   "codemirror_mode": {
    "name": "ipython",
    "version": 3
   },
   "file_extension": ".py",
   "mimetype": "text/x-python",
   "name": "python",
   "nbconvert_exporter": "python",
   "pygments_lexer": "ipython3",
   "version": "3.12.2"
  }
 },
 "nbformat": 4,
 "nbformat_minor": 5
}
