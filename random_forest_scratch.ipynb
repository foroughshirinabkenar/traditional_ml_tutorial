{
 "cells": [
  {
   "cell_type": "markdown",
   "id": "2deda2d1-60ee-42db-bdf3-fc729f09f9c5",
   "metadata": {},
   "source": [
    "# Random Forest\n",
    "In this document, we implement the random forest algorithm (machine learning model) from scratch in Python. To this end, we use the guidelines provided by AssemblyAI in https://www.youtube.com/watch?v=kFwe2ZZU7yw.\n",
    "\n",
    "It is worth mentioning that, since random forest comprises multiple trees (decision trees), we import the DecisionTree class prvided in \"decision_tree_scratch.ipynb\"."
   ]
  },
  {
   "cell_type": "markdown",
   "id": "056d1b0b-a3fd-4fc5-8052-006346f527f6",
   "metadata": {},
   "source": [
    "## Import Libraries"
   ]
  },
  {
   "cell_type": "code",
   "execution_count": 1,
   "id": "e465df11-184e-4b4a-b690-9c80468756f5",
   "metadata": {},
   "outputs": [],
   "source": [
    "import numpy as np\n",
    "from collections import Counter\n",
    "import import_ipynb\n",
    "from decision_tree_scratch import DecisionTree as DecisionTree"
   ]
  },
  {
   "cell_type": "markdown",
   "id": "1dbc7fe6-cdb0-45ff-a10a-20c93d9e4cd1",
   "metadata": {},
   "source": [
    "## Class"
   ]
  },
  {
   "cell_type": "code",
   "execution_count": 2,
   "id": "3f363bd8-5319-4f9f-9f9d-dd9693cbcc29",
   "metadata": {},
   "outputs": [],
   "source": [
    "class RandomForest:\n",
    "    def __init__(self, n_trees=10, min_samples_split=2, max_depth=10, n_features=None,\n",
    "                 mode='classification'):\n",
    "        self.n_trees           = n_trees               # number of trees in the forest\n",
    "        self.min_samples_split = min_samples_split     # stopping criterion: minimum number of samples in a leaf node\n",
    "        self.max_depth         = max_depth             # stopping criterion: maximum depth of the tree\n",
    "        self.n_features        = n_features            # number of features\n",
    "        self.trees             = []                    # list of trees for the forest\n",
    "        self.mode              = mode.lower()          # classification or regression\n",
    "\n",
    "    def fit(self, X, y):\n",
    "        self.trees = []\n",
    "        for _ in range(self.n_trees):\n",
    "            tree = DecisionTree(self.min_samples_split, self.max_depth, self.n_features, self.mode)\n",
    "            X_sample, y_sample = self._bootstrap_samples(X, y)\n",
    "            tree.fit(X, y)\n",
    "            self.trees.append(tree)\n",
    "\n",
    "    def predict(self, X):\n",
    "        preds_list  = np.array([tree.predict(X) for tree in self.trees])\n",
    "        trees_preds  = np.swapaxes(preds_list, 0, 1)\n",
    "        \n",
    "        if self.mode == 'classification':\n",
    "            # majority vote for classification\n",
    "            predictions = np.array([self._most_common_label(preds) for preds in trees_preds])\n",
    "        elif self.mode == 'regression':\n",
    "            # average for regression\n",
    "            predictions = np.mean(trees_preds, axis=1)\n",
    "        \n",
    "        return predictions\n",
    "\n",
    "    ################################### Auxiliary Functions #####################################\n",
    "    # form bootstrap (smapling) data\n",
    "    def _bootstrap_samples(self, X, y):\n",
    "        n_samples = X.shape[0]\n",
    "        indices = np.random.choice(n_samples, n_samples, replace=True)\n",
    "        \n",
    "        return X[indices], y[indices]\n",
    "\n",
    "    def _most_common_label(self, y):\n",
    "        counter = Counter(y)\n",
    "        most_common = counter.most_common(1)[0][0]\n",
    "        \n",
    "        return most_common"
   ]
  },
  {
   "cell_type": "markdown",
   "id": "338f43e8-8d5a-4ebe-a438-da1fe76cb0c4",
   "metadata": {},
   "source": [
    "## Fit and Evaluate Model"
   ]
  },
  {
   "cell_type": "code",
   "execution_count": 3,
   "id": "88b6425e-4de4-4a7c-a570-9fe326f096e1",
   "metadata": {},
   "outputs": [],
   "source": [
    "from sklearn import datasets\n",
    "from sklearn.model_selection import train_test_split\n",
    "from sklearn.metrics import mean_squared_error"
   ]
  },
  {
   "cell_type": "markdown",
   "id": "63d92dd3-3602-4389-99b1-f334a745ab6f",
   "metadata": {},
   "source": [
    "### Classification"
   ]
  },
  {
   "cell_type": "code",
   "execution_count": 4,
   "id": "3ddfc766-2224-4bde-ba59-4c4015c14fb2",
   "metadata": {},
   "outputs": [],
   "source": [
    "def classification():\n",
    "    dataset = datasets.load_breast_cancer()\n",
    "    X, y = dataset.data, dataset.target\n",
    "\n",
    "    X_train, X_test, y_train, y_test = train_test_split(\n",
    "        X, y, test_size=0.2, random_state=42\n",
    "    )\n",
    "\n",
    "    clf = RandomForest()\n",
    "    clf.fit(X_train, y_train)\n",
    "    \n",
    "    y_pred = clf.predict(X_test)\n",
    "    accuracy = np.sum(y_pred == y_test) / len(y_test)\n",
    "    print(f\"Results for Classification - Accuracy: {accuracy*100:.2f}\")"
   ]
  },
  {
   "cell_type": "markdown",
   "id": "cec11f75-cef6-40d2-8455-043302628dbb",
   "metadata": {},
   "source": [
    "### Regression"
   ]
  },
  {
   "cell_type": "code",
   "execution_count": 5,
   "id": "8774652d-8a14-4340-aae6-813edf5f1b34",
   "metadata": {},
   "outputs": [],
   "source": [
    "def regression():\n",
    "    dataset = datasets.fetch_california_housing()\n",
    "    X, y = dataset.data, dataset.target\n",
    "\n",
    "    X_train, X_test, y_train, y_test = train_test_split(\n",
    "        X, y, test_size=0.2, random_state=42\n",
    "    )\n",
    "\n",
    "    reg = RandomForest(mode='regression')\n",
    "    reg.fit(X_train, y_train)\n",
    "    \n",
    "    y_pred = reg.predict(X_test)\n",
    "    loss = mean_squared_error(y_pred, y_test)\n",
    "    print(f\"Results for Regression - Loss: {loss:.4f}\")"
   ]
  },
  {
   "cell_type": "code",
   "execution_count": 6,
   "id": "59d8b168-a5e2-426d-b99a-c759250dc5f7",
   "metadata": {},
   "outputs": [
    {
     "name": "stdout",
     "output_type": "stream",
     "text": [
      "Results for Classification - Accuracy: 94.74\n",
      "Results for Regression - Loss: 0.4143\n"
     ]
    }
   ],
   "source": [
    "if __name__ == '__main__':\n",
    "    classification()\n",
    "    regression()"
   ]
  }
 ],
 "metadata": {
  "kernelspec": {
   "display_name": "Python 3 (ipykernel)",
   "language": "python",
   "name": "python3"
  },
  "language_info": {
   "codemirror_mode": {
    "name": "ipython",
    "version": 3
   },
   "file_extension": ".py",
   "mimetype": "text/x-python",
   "name": "python",
   "nbconvert_exporter": "python",
   "pygments_lexer": "ipython3",
   "version": "3.12.2"
  }
 },
 "nbformat": 4,
 "nbformat_minor": 5
}
