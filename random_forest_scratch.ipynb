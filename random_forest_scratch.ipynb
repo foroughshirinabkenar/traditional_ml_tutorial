{
 "cells": [
  {
   "cell_type": "markdown",
   "id": "2deda2d1-60ee-42db-bdf3-fc729f09f9c5",
   "metadata": {},
   "source": [
    "# Random Forest\n",
    "In this document, we implement the random forest algorithm (machine learning model) from scratch in Python. To this end, we use the guidelines provided by AssemblyAI in https://www.youtube.com/watch?v=kFwe2ZZU7yw.\n",
    "\n",
    "It is worth mentioning that, since random forest comprises multiple trees (decision trees), we import the Decision Tree class prvided in \"decision_tree_scratch.ipynb\"."
   ]
  },
  {
   "cell_type": "markdown",
   "id": "056d1b0b-a3fd-4fc5-8052-006346f527f6",
   "metadata": {},
   "source": [
    "## Import Libraries"
   ]
  },
  {
   "cell_type": "code",
   "execution_count": 1,
   "id": "e465df11-184e-4b4a-b690-9c80468756f5",
   "metadata": {},
   "outputs": [
    {
     "name": "stdout",
     "output_type": "stream",
     "text": [
      "Accuracy: 93.86\n"
     ]
    }
   ],
   "source": [
    "import numpy as np\n",
    "from collections import Counter\n",
    "import import_ipynb\n",
    "from decision_tree_scratch import DecisionTree as DecisionTree"
   ]
  },
  {
   "cell_type": "markdown",
   "id": "1dbc7fe6-cdb0-45ff-a10a-20c93d9e4cd1",
   "metadata": {},
   "source": [
    "## Class"
   ]
  },
  {
   "cell_type": "code",
   "execution_count": 2,
   "id": "3f363bd8-5319-4f9f-9f9d-dd9693cbcc29",
   "metadata": {},
   "outputs": [],
   "source": [
    "class RandomForest:\n",
    "    def __init__(self, n_trees=10, min_samples_split=2, max_depth=10, n_features=None):\n",
    "        self.n_trees           = n_trees               # number of trees in the forest\n",
    "        self.min_samples_split = min_samples_split     # stopping criterion: minimum number of samples in a leaf node\n",
    "        self.max_depth         = max_depth             # stopping criterion: maximum depth of the tree\n",
    "        self.n_features        = n_features            # number of features\n",
    "        self.trees             = []                    # list of trees for the forest\n",
    "\n",
    "    def fit(self, X, y):\n",
    "        self.trees = []\n",
    "        for _ in range(self.n_trees):\n",
    "            tree = DecisionTree(self.min_samples_split, self.max_depth, self.n_features)\n",
    "            X_sample, y_sample = self._bootstrap_samples(X, y)\n",
    "            tree.fit(X, y)\n",
    "            self.trees.append(tree)\n",
    "\n",
    "    def predict(self, X):\n",
    "        preds_list  = np.array([tree.predict(X) for tree in self.trees])\n",
    "        tree_preds  = np.swapaxes(preds_list, 0, 1)\n",
    "        predictions = np.array([self._most_common_labels(pred) for pred in tree_preds])\n",
    "        \n",
    "        return predictions\n",
    "\n",
    "    ################################### Auxiliary Functions #####################################\n",
    "    # form bootstrap (smapling) data\n",
    "    def _bootstrap_samples(self, X, y):\n",
    "        n_samples = X.shape[0]\n",
    "        indices = np.random.choice(n_samples, n_samples, replace=True)\n",
    "        \n",
    "        return X[indices], y[indices]\n",
    "\n",
    "    def _most_common_labels(self, y):\n",
    "        counter = Counter(y)\n",
    "        most_common = counter.most_common(1)[0][0]\n",
    "        \n",
    "        return most_common"
   ]
  },
  {
   "cell_type": "markdown",
   "id": "338f43e8-8d5a-4ebe-a438-da1fe76cb0c4",
   "metadata": {},
   "source": [
    "## Fit and Evaluate Model"
   ]
  },
  {
   "cell_type": "code",
   "execution_count": 3,
   "id": "88b6425e-4de4-4a7c-a570-9fe326f096e1",
   "metadata": {},
   "outputs": [],
   "source": [
    "from sklearn import datasets\n",
    "from sklearn.model_selection import train_test_split"
   ]
  },
  {
   "cell_type": "code",
   "execution_count": 4,
   "id": "2db94d61-3a87-4bef-8b47-eeb00c32b1b9",
   "metadata": {},
   "outputs": [],
   "source": [
    "dataset = datasets.load_breast_cancer()\n",
    "X, y = dataset.data, dataset.target"
   ]
  },
  {
   "cell_type": "code",
   "execution_count": 5,
   "id": "3ddfc766-2224-4bde-ba59-4c4015c14fb2",
   "metadata": {},
   "outputs": [],
   "source": [
    "X_train, X_test, y_train, y_test = train_test_split(\n",
    "    X, y, test_size=0.2, random_state=42\n",
    ")"
   ]
  },
  {
   "cell_type": "code",
   "execution_count": 6,
   "id": "18cc85df-1ba6-4950-89d0-39d9caeb9fc0",
   "metadata": {},
   "outputs": [
    {
     "name": "stdout",
     "output_type": "stream",
     "text": [
      "Accuracy: 93.86\n"
     ]
    }
   ],
   "source": [
    "clf = RandomForest()\n",
    "clf.fit(X_train, y_train)\n",
    "\n",
    "y_pred = clf.predict(X_test)\n",
    "accuracy = np.sum(y_pred == y_test) / len(y_test)\n",
    "print(f\"Accuracy: {accuracy*100:.2f}\")"
   ]
  },
  {
   "cell_type": "code",
   "execution_count": null,
   "id": "8774652d-8a14-4340-aae6-813edf5f1b34",
   "metadata": {},
   "outputs": [],
   "source": [
    "clf = RandomForest(n_trees=20)\n",
    "clf.fit(X_train, y_train)\n",
    "\n",
    "y_pred = clf.predict(X_test)\n",
    "accuracy = np.sum(y_pred == y_test) / len(y_test)\n",
    "print(f\"Accuracy: {accuracy*100:.2f}\")"
   ]
  }
 ],
 "metadata": {
  "kernelspec": {
   "display_name": "Python 3 (ipykernel)",
   "language": "python",
   "name": "python3"
  },
  "language_info": {
   "codemirror_mode": {
    "name": "ipython",
    "version": 3
   },
   "file_extension": ".py",
   "mimetype": "text/x-python",
   "name": "python",
   "nbconvert_exporter": "python",
   "pygments_lexer": "ipython3",
   "version": "3.12.2"
  }
 },
 "nbformat": 4,
 "nbformat_minor": 5
}
