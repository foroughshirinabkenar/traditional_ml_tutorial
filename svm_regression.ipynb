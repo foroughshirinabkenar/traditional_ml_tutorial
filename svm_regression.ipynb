{
 "cells": [
  {
   "cell_type": "markdown",
   "id": "257a860f-3d0f-4462-aaf0-0d3e264d9495",
   "metadata": {},
   "source": [
    "# SVM for Regression\n",
    "In this document, we develop a SVM regressor using scikit-sklearn for California Housing Dataset. This dataset involves predicting house prices in California districts, with features like median income, house age, and population."
   ]
  },
  {
   "cell_type": "markdown",
   "id": "21aa4a43-9a3d-48c8-aedf-0bdb72a3d1aa",
   "metadata": {},
   "source": [
    "## Import Libraries"
   ]
  },
  {
   "cell_type": "code",
   "execution_count": 1,
   "id": "93770197-46ed-41d5-b484-5ea6f15b6e5d",
   "metadata": {},
   "outputs": [],
   "source": [
    "import numpy as np\n",
    "from sklearn import datasets\n",
    "from sklearn.svm import SVR\n",
    "from sklearn.model_selection import train_test_split\n",
    "from sklearn.preprocessing import StandardScaler\n",
    "# from sklearn.model_selection import GridSearchCV       # for hyper-parameter tuning\n",
    "\n",
    "import warnings\n",
    "warnings.filterwarnings('ignore')"
   ]
  },
  {
   "cell_type": "markdown",
   "id": "2afb73ab-5eee-41ab-9e9d-ae9e8a08a588",
   "metadata": {},
   "source": [
    "## Load Dataset"
   ]
  },
  {
   "cell_type": "code",
   "execution_count": 2,
   "id": "036bacca-8891-4c7b-a0b9-ca5d454e1228",
   "metadata": {},
   "outputs": [],
   "source": [
    "dataset = datasets.fetch_california_housing()\n",
    "X, y = dataset.data, dataset.target"
   ]
  },
  {
   "cell_type": "code",
   "execution_count": 3,
   "id": "b1886684-7a8f-4c2c-8e76-ff98cbd66689",
   "metadata": {},
   "outputs": [],
   "source": [
    "X_train, X_test, y_train, y_test = train_test_split(\n",
    "    X, y, test_size=0.2, random_state=42\n",
    ")\n",
    "\n",
    "scaler = StandardScaler()\n",
    "X_train_scaled = scaler.fit_transform(X_train)\n",
    "X_test_scaled = scaler.transform(X_test)"
   ]
  },
  {
   "cell_type": "markdown",
   "id": "177abba6-99c3-4aeb-a77a-77874fd250a4",
   "metadata": {},
   "source": [
    "## Fit and Evaluate Model"
   ]
  },
  {
   "cell_type": "code",
   "execution_count": 4,
   "id": "65a3460e-096a-4c6c-9820-8e7dc5a33add",
   "metadata": {},
   "outputs": [
    {
     "name": "stdout",
     "output_type": "stream",
     "text": [
      "Loss: 0.5793\n"
     ]
    }
   ],
   "source": [
    "from sklearn.metrics import mean_squared_error\n",
    "\n",
    "reg = SVR(kernel='linear')\n",
    "reg.fit(X_train_scaled, y_train)\n",
    "\n",
    "y_pred = reg.predict(X_test_scaled)\n",
    "loss   = mean_squared_error(y_pred, y_test)\n",
    "print(f\"Loss: {loss:.4f}\")"
   ]
  },
  {
   "cell_type": "code",
   "execution_count": 5,
   "id": "8380f04b-2533-4850-bb84-79136be7ca8d",
   "metadata": {},
   "outputs": [
    {
     "name": "stdout",
     "output_type": "stream",
     "text": [
      "Loss: 0.3570\n"
     ]
    }
   ],
   "source": [
    "reg = SVR(kernel='rbf')\n",
    "reg.fit(X_train_scaled, y_train)\n",
    "\n",
    "y_pred = reg.predict(X_test_scaled)\n",
    "loss   = mean_squared_error(y_pred, y_test)\n",
    "print(f\"Loss: {loss:.4f}\")"
   ]
  },
  {
   "cell_type": "code",
   "execution_count": 6,
   "id": "c6570a78-3617-4f48-a333-64bc4e402cc7",
   "metadata": {},
   "outputs": [
    {
     "name": "stdout",
     "output_type": "stream",
     "text": [
      "Loss: 1.0047\n"
     ]
    }
   ],
   "source": [
    "reg = SVR(kernel='poly')\n",
    "reg.fit(X_train_scaled, y_train)\n",
    "\n",
    "y_pred = reg.predict(X_test_scaled)\n",
    "loss   = mean_squared_error(y_pred, y_test)\n",
    "print(f\"Loss: {loss:.4f}\")"
   ]
  }
 ],
 "metadata": {
  "kernelspec": {
   "display_name": "Python 3 (ipykernel)",
   "language": "python",
   "name": "python3"
  },
  "language_info": {
   "codemirror_mode": {
    "name": "ipython",
    "version": 3
   },
   "file_extension": ".py",
   "mimetype": "text/x-python",
   "name": "python",
   "nbconvert_exporter": "python",
   "pygments_lexer": "ipython3",
   "version": "3.12.2"
  }
 },
 "nbformat": 4,
 "nbformat_minor": 5
}
