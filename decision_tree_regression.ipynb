{
 "cells": [
  {
   "cell_type": "markdown",
   "id": "e4a76eb6-4b33-4a93-958e-7f498a2bc533",
   "metadata": {},
   "source": [
    "# Decision Tree for Regression\n",
    "In this document, we develop a decision tree regressor using scikit-sklearn for California Housing Dataset. This dataset involves predicting house prices in California districts, with features like median income, house age, and population."
   ]
  },
  {
   "cell_type": "markdown",
   "id": "5c24eadc-38b1-40a7-b924-f54a52e5b16b",
   "metadata": {},
   "source": [
    "## Import Libraries"
   ]
  },
  {
   "cell_type": "code",
   "execution_count": 1,
   "id": "0baf058d-6c9a-4832-a12b-7193872e6bfd",
   "metadata": {},
   "outputs": [],
   "source": [
    "import numpy as np\n",
    "from sklearn import datasets\n",
    "from sklearn.tree import DecisionTreeRegressor\n",
    "from sklearn.model_selection import train_test_split\n",
    "from sklearn.model_selection import GridSearchCV       # for hyper-parameter tuning\n",
    "\n",
    "import warnings\n",
    "warnings.filterwarnings('ignore')"
   ]
  },
  {
   "cell_type": "markdown",
   "id": "a761ae38-cd65-4812-9123-62a57b54460b",
   "metadata": {},
   "source": [
    "## Load Dataset"
   ]
  },
  {
   "cell_type": "code",
   "execution_count": 2,
   "id": "58fe63cb-f877-427e-b0a5-30e7027c828f",
   "metadata": {},
   "outputs": [],
   "source": [
    "dataset = datasets.fetch_california_housing()\n",
    "X, y = dataset.data, dataset.target"
   ]
  },
  {
   "cell_type": "code",
   "execution_count": 3,
   "id": "5481cedf-4b5d-47e3-996e-a99d79bd34cf",
   "metadata": {},
   "outputs": [],
   "source": [
    "X_train, X_test, y_train, y_test = train_test_split(\n",
    "    X, y, test_size=0.2, random_state=42\n",
    ")"
   ]
  },
  {
   "cell_type": "markdown",
   "id": "33425d9c-11e1-4347-9fd3-132fee2556fd",
   "metadata": {},
   "source": [
    "## Fit Model"
   ]
  },
  {
   "cell_type": "code",
   "execution_count": 4,
   "id": "f1041c43-d369-4385-b752-e5d13e145ae5",
   "metadata": {},
   "outputs": [
    {
     "name": "stdout",
     "output_type": "stream",
     "text": [
      "Best Parameters:\n",
      "criterion: friedman_mse\n",
      "max_depth: 10\n",
      "min_samples_leaf: 4\n",
      "min_samples_split: 2\n",
      "Training Loss: -0.3868\n"
     ]
    }
   ],
   "source": [
    "param_grid = {\n",
    "    'criterion'         : ['squared_error', 'friedman_mse'], # the criterion for splitting\n",
    "    'max_depth'         : ['None', 10, 50, 100],             # maximum depth of tree for convergence\n",
    "    'min_samples_split' : [2, 5, 10],                        # minumum number of samples required to split an internal node (convergence)\n",
    "    'min_samples_leaf'  : [1, 2, 4]                          # minimum number of samples required to be at a leaf node (convergence)\n",
    "}\n",
    "\n",
    "reg = DecisionTreeRegressor(random_state=42)\n",
    "\n",
    "grid_search = GridSearchCV(\n",
    "    estimator  = reg,\n",
    "    param_grid = param_grid,\n",
    "    cv         = 5,\n",
    "    scoring    = 'neg_mean_squared_error',\n",
    "    n_jobs     = -1\n",
    ")\n",
    "\n",
    "grid_search.fit(X_train, y_train)\n",
    "best_parameters = grid_search.best_params_\n",
    "best_score      = grid_search.best_score_\n",
    "best_reg        = grid_search.best_estimator_\n",
    "\n",
    "print(\"Best Parameters:\")\n",
    "for k, v in best_parameters.items():\n",
    "    print(f\"{k}: {v}\")\n",
    "\n",
    "print(f\"Training Loss: {best_score:.4f}\")"
   ]
  },
  {
   "cell_type": "markdown",
   "id": "668597af-fe1a-4a29-ae73-d682764a6221",
   "metadata": {},
   "source": [
    "## Testing"
   ]
  },
  {
   "cell_type": "code",
   "execution_count": 5,
   "id": "f085d9ac-3d8f-4129-acc9-660ec4e60925",
   "metadata": {},
   "outputs": [
    {
     "name": "stdout",
     "output_type": "stream",
     "text": [
      "Loss: 0.4084\n"
     ]
    }
   ],
   "source": [
    "from sklearn.metrics import mean_squared_error\n",
    "\n",
    "y_pred = best_reg.predict(X_test)\n",
    "loss   = mean_squared_error(y_pred, y_test)\n",
    "print(f\"Loss: {loss:.4f}\")"
   ]
  }
 ],
 "metadata": {
  "kernelspec": {
   "display_name": "Python 3 (ipykernel)",
   "language": "python",
   "name": "python3"
  },
  "language_info": {
   "codemirror_mode": {
    "name": "ipython",
    "version": 3
   },
   "file_extension": ".py",
   "mimetype": "text/x-python",
   "name": "python",
   "nbconvert_exporter": "python",
   "pygments_lexer": "ipython3",
   "version": "3.12.2"
  }
 },
 "nbformat": 4,
 "nbformat_minor": 5
}
